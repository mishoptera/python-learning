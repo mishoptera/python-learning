{
 "cells": [
  {
   "cell_type": "markdown",
   "metadata": {},
   "source": [
    "# Practice Python"
   ]
  },
  {
   "cell_type": "markdown",
   "metadata": {},
   "source": [
    "## Finding the percentage\n",
    "You have a record of  students. Each record contains the student's name, and their percent marks in Maths, Physics and Chemistry. The marks can be floating values. The user enters some integer  followed by the names and marks for students. You are required to save the record in a dictionary data type. The user then enters a student's name. Output the average percentage marks obtained by that student, correct to two decimal places.\n",
    "\n",
    "Input Format\n",
    "\n",
    "The first line contains the integer , the number of students. The next  lines contains the name and marks obtained by that student separated by a space. The final line contains the name of a particular student previously listed.\n",
    "https://www.hackerrank.com/challenges/finding-the-percentage/problem"
   ]
  },
  {
   "cell_type": "markdown",
   "metadata": {},
   "source": [
    "## Swapping the Cases"
   ]
  },
  {
   "cell_type": "code",
   "execution_count": 5,
   "metadata": {},
   "outputs": [],
   "source": [
    "def swap_case(s):\n",
    "    return(\"\".join([x.lower() if x.isupper() else x.upper() for x in s]))"
   ]
  },
  {
   "cell_type": "code",
   "execution_count": 6,
   "metadata": {},
   "outputs": [],
   "source": [
    "s = 'HackerRank.com presents \"Pythonist 2\".'"
   ]
  },
  {
   "cell_type": "code",
   "execution_count": 8,
   "metadata": {},
   "outputs": [
    {
     "data": {
      "text/plain": [
       "'hACKERrANK.COM PRESENTS \"pYTHONIST 2\".'"
      ]
     },
     "execution_count": 8,
     "metadata": {},
     "output_type": "execute_result"
    }
   ],
   "source": [
    "swap_case(s)"
   ]
  },
  {
   "cell_type": "markdown",
   "metadata": {},
   "source": [
    "## String split and join"
   ]
  },
  {
   "cell_type": "code",
   "execution_count": 15,
   "metadata": {},
   "outputs": [],
   "source": [
    "def split_and_join(line):\n",
    "    line = line.split(\" \")\n",
    "    line = \"-\".join(line)\n",
    "    return(line)"
   ]
  },
  {
   "cell_type": "code",
   "execution_count": 16,
   "metadata": {},
   "outputs": [],
   "source": [
    "line = \"this is a string\"  "
   ]
  },
  {
   "cell_type": "code",
   "execution_count": 17,
   "metadata": {},
   "outputs": [
    {
     "data": {
      "text/plain": [
       "'this-is-a-string'"
      ]
     },
     "execution_count": 17,
     "metadata": {},
     "output_type": "execute_result"
    }
   ],
   "source": [
    "split_and_join(line)"
   ]
  },
  {
   "cell_type": "markdown",
   "metadata": {},
   "source": [
    "## What's your name?"
   ]
  },
  {
   "cell_type": "code",
   "execution_count": 18,
   "metadata": {},
   "outputs": [],
   "source": [
    "def print_full_name(a, b):\n",
    "    print(\"Hello \" + a + \" \" + b + \"! You just delved into python.\")\n",
    "    \n",
    "# NOTE: Using + signs rather than just commas allowed better control over spacing."
   ]
  },
  {
   "cell_type": "code",
   "execution_count": 19,
   "metadata": {},
   "outputs": [],
   "source": [
    "a = \"Ross\"\n",
    "b = \"Taylor\""
   ]
  },
  {
   "cell_type": "code",
   "execution_count": 20,
   "metadata": {},
   "outputs": [
    {
     "name": "stdout",
     "output_type": "stream",
     "text": [
      "Hello Ross Taylor! You just delved into python.\n"
     ]
    }
   ],
   "source": [
    "print_full_name(a,b)"
   ]
  },
  {
   "cell_type": "markdown",
   "metadata": {},
   "source": [
    "## Mutations"
   ]
  },
  {
   "cell_type": "code",
   "execution_count": 30,
   "metadata": {},
   "outputs": [],
   "source": [
    "def mutate_string(string, position, character):\n",
    "    return(string[:position] + character + string[(position+1):])"
   ]
  },
  {
   "cell_type": "code",
   "execution_count": 31,
   "metadata": {},
   "outputs": [],
   "source": [
    "string = \"abracadabra\"\n",
    "position = 4\n",
    "character = \"k\""
   ]
  },
  {
   "cell_type": "code",
   "execution_count": 32,
   "metadata": {},
   "outputs": [
    {
     "data": {
      "text/plain": [
       "'abrakadabra'"
      ]
     },
     "execution_count": 32,
     "metadata": {},
     "output_type": "execute_result"
    }
   ],
   "source": [
    "mutate_string(string, position, character)"
   ]
  },
  {
   "cell_type": "markdown",
   "metadata": {},
   "source": [
    "## Find a string"
   ]
  },
  {
   "cell_type": "code",
   "execution_count": 168,
   "metadata": {},
   "outputs": [],
   "source": [
    "def count_substring(string, sub_string):\n",
    "    index = -1\n",
    "    count = 0\n",
    "    for i in range(len(string)):\n",
    "        print(i)\n",
    "        if ((string.find(sub_string, i, len(string)) != index) & (string.find(sub_string, i, len(string)) > -1)):\n",
    "            index = string.find(sub_string, i, len(string))\n",
    "            count +=1\n",
    "            print(index, count)\n",
    "    return(count)"
   ]
  },
  {
   "cell_type": "code",
   "execution_count": 169,
   "metadata": {},
   "outputs": [],
   "source": [
    "string = \"CDCABCDCDC\"\n",
    "sub_string = \"CDC\"\n"
   ]
  },
  {
   "cell_type": "code",
   "execution_count": 170,
   "metadata": {},
   "outputs": [
    {
     "data": {
      "text/plain": [
       "5"
      ]
     },
     "execution_count": 170,
     "metadata": {},
     "output_type": "execute_result"
    }
   ],
   "source": [
    "string.find(sub_string, 3)"
   ]
  },
  {
   "cell_type": "code",
   "execution_count": 171,
   "metadata": {},
   "outputs": [
    {
     "name": "stdout",
     "output_type": "stream",
     "text": [
      "0\n",
      "0 1\n",
      "1\n",
      "5 2\n",
      "2\n",
      "3\n",
      "4\n",
      "5\n",
      "6\n",
      "7 3\n",
      "7\n",
      "8\n",
      "9\n"
     ]
    },
    {
     "data": {
      "text/plain": [
       "3"
      ]
     },
     "execution_count": 171,
     "metadata": {},
     "output_type": "execute_result"
    }
   ],
   "source": [
    "count_substring(string,sub_string)"
   ]
  },
  {
   "cell_type": "markdown",
   "metadata": {},
   "source": [
    "The tricky part above was getting the indices right and learning how the find function works."
   ]
  },
  {
   "cell_type": "markdown",
   "metadata": {},
   "source": [
    "## String validators"
   ]
  },
  {
   "cell_type": "markdown",
   "metadata": {},
   "source": [
    "Cool string tools to know:\n",
    "- str.isalnum\n",
    "- str.isalpha\n",
    "- str.isdigit\n",
    "- str.islower\n",
    "- str.isupper\n",
    "\n",
    "Although important to note that it will only return true if ALL OF THE CHARACTERS meet these requirements."
   ]
  },
  {
   "cell_type": "code",
   "execution_count": 181,
   "metadata": {},
   "outputs": [],
   "source": [
    "def string_check(s):\n",
    "    lnum = False\n",
    "    alpha = False\n",
    "    num = False\n",
    "    lower = False\n",
    "    upper = False\n",
    "    for i in s:\n",
    "        if i.isalnum() == True:\n",
    "            lnum = True\n",
    "        if i.isalpha() == True:\n",
    "            alpha = True\n",
    "        if i.isdigit() == True:\n",
    "            num = True\n",
    "        if i.islower() == True:\n",
    "            lower = True\n",
    "        if i.isupper() == True:\n",
    "            upper = True\n",
    "    print(lnum)\n",
    "    print(alpha)\n",
    "    print(num)\n",
    "    print(lower)\n",
    "    print(upper)\n"
   ]
  },
  {
   "cell_type": "code",
   "execution_count": 182,
   "metadata": {},
   "outputs": [],
   "source": [
    "s = \"3\""
   ]
  },
  {
   "cell_type": "code",
   "execution_count": 183,
   "metadata": {},
   "outputs": [
    {
     "name": "stdout",
     "output_type": "stream",
     "text": [
      "True\n",
      "False\n",
      "True\n",
      "False\n",
      "False\n"
     ]
    }
   ],
   "source": [
    "string_check(s)"
   ]
  },
  {
   "cell_type": "markdown",
   "metadata": {},
   "source": [
    "## Text Alignmnet\n",
    "width = 20\n",
    "\n",
    "print 'HackerRank'.ljust(width,'-')\n",
    "\n",
    "HackerRank----------  \n",
    "\n",
    "print 'HackerRank'.center(width,'-')\n",
    "\n",
    "-----HackerRank-----\n",
    "\n",
    "print 'HackerRank'.rjust(width,'-')\n",
    "\n",
    "----------HackerRank"
   ]
  },
  {
   "cell_type": "markdown",
   "metadata": {},
   "source": [
    "## Text Wrapping\n",
    "textwrap.wrap() vs textwrap.fill()\n",
    "\n",
    "import textwrap\n",
    "\n",
    "string = \"This is a very very very very very long string.\"\n",
    "\n",
    "print textwrap.wrap(string,8)\n",
    "\n",
    "['This is', 'a very', 'very', 'very', 'very', 'very', 'long', 'string.'] \n",
    "\n",
    "string = \"This is a very very very very very long string.\"\n",
    "\n",
    "print textwrap.fill(string,8)\n",
    "\n",
    "This is\n",
    "\n",
    "a very\n",
    "\n",
    "very\n",
    "\n",
    "very\n",
    "\n",
    "very\n",
    "\n",
    "very\n",
    "\n",
    "long\n",
    "\n",
    "string."
   ]
  },
  {
   "cell_type": "code",
   "execution_count": 188,
   "metadata": {},
   "outputs": [],
   "source": [
    "import textwrap\n",
    "def wrap(string, max_width):\n",
    "    return(textwrap.fill(string, max_width))"
   ]
  },
  {
   "cell_type": "code",
   "execution_count": 189,
   "metadata": {},
   "outputs": [],
   "source": [
    "string = \"ABCDEFGHIJKLIMNOQRSTUVWXYZ\"\n",
    "max_width = 4"
   ]
  },
  {
   "cell_type": "code",
   "execution_count": 190,
   "metadata": {},
   "outputs": [
    {
     "data": {
      "text/plain": [
       "'ABCD\\nEFGH\\nIJKL\\nIMNO\\nQRST\\nUVWX\\nYZ'"
      ]
     },
     "execution_count": 190,
     "metadata": {},
     "output_type": "execute_result"
    }
   ],
   "source": [
    "wrap(string, max_width)"
   ]
  },
  {
   "cell_type": "markdown",
   "metadata": {},
   "source": [
    "## Capitalize!"
   ]
  },
  {
   "cell_type": "code",
   "execution_count": 283,
   "metadata": {},
   "outputs": [],
   "source": [
    "def solve(s):\n",
    "    capitalized = \"\"\n",
    "    s = s.split()\n",
    "    for x in s:\n",
    "        x = x.capitalize()\n",
    "        capitalized = capitalized + x + \" \"\n",
    "    capitalized = capitalized.strip()\n",
    "    return(capitalized)\n"
   ]
  },
  {
   "cell_type": "code",
   "execution_count": 286,
   "metadata": {},
   "outputs": [],
   "source": [
    "name = ' i dsf D'"
   ]
  },
  {
   "cell_type": "code",
   "execution_count": 287,
   "metadata": {},
   "outputs": [
    {
     "name": "stdout",
     "output_type": "stream",
     "text": [
      "I Dsf D\n"
     ]
    }
   ],
   "source": [
    "print(solve(name))"
   ]
  },
  {
   "cell_type": "markdown",
   "metadata": {},
   "source": [
    "The above code works but for whatever reason is not accepted for all cases by hackerrank so I\"m moving on."
   ]
  },
  {
   "cell_type": "markdown",
   "metadata": {},
   "source": [
    "## The Minion Game"
   ]
  },
  {
   "cell_type": "code",
   "execution_count": 332,
   "metadata": {},
   "outputs": [],
   "source": [
    "# End goal is to determine how many substrings can be made that start with a consonant\n",
    "# versus a vowel. If a substring appears multiple times, multiple points can be awarded.\n",
    "# If there are more substrings that start with a consonant, print \"Stuart\" else \"Kevin\"\n",
    "# along with the winning score.\n",
    "\n",
    "def minion_game(string):\n",
    "    string = string.lower()\n",
    "    stuart = 0\n",
    "    kevin = 0\n",
    "    vowels = ['a', 'e', 'i', 'o', 'u']\n",
    "    \n",
    "    for c in enumerate(string):\n",
    "        if c[1] in vowels:\n",
    "            kevin+=len(string[c[0]:])\n",
    "        else:\n",
    "            stuart+=len(string[c[0]:])\n",
    "    if kevin > stuart:\n",
    "        print(\"Kevin\", str(kevin))\n",
    "    elif stuart > kevin:\n",
    "        print(\"Stuart\", str(stuart))\n",
    "    else:\n",
    "        print(\"Draw\")\n",
    "\n",
    "\n",
    "\n"
   ]
  },
  {
   "cell_type": "code",
   "execution_count": 333,
   "metadata": {},
   "outputs": [
    {
     "name": "stdout",
     "output_type": "stream",
     "text": [
      "Kevin 19\n"
     ]
    }
   ],
   "source": [
    "minion_game('BAANANAS')"
   ]
  },
  {
   "cell_type": "markdown",
   "metadata": {},
   "source": [
    "Got it to work but doesn't work for last 3 test cases due to time out errors. Plus side is I learned out do do enumerate!"
   ]
  },
  {
   "cell_type": "code",
   "execution_count": null,
   "metadata": {},
   "outputs": [],
   "source": [
    "##"
   ]
  }
 ],
 "metadata": {
  "kernelspec": {
   "display_name": "Python 3",
   "language": "python",
   "name": "python3"
  },
  "language_info": {
   "codemirror_mode": {
    "name": "ipython",
    "version": 3
   },
   "file_extension": ".py",
   "mimetype": "text/x-python",
   "name": "python",
   "nbconvert_exporter": "python",
   "pygments_lexer": "ipython3",
   "version": "3.7.3"
  },
  "toc": {
   "base_numbering": 1,
   "nav_menu": {},
   "number_sections": true,
   "sideBar": true,
   "skip_h1_title": false,
   "title_cell": "Table of Contents",
   "title_sidebar": "Contents",
   "toc_cell": false,
   "toc_position": {},
   "toc_section_display": true,
   "toc_window_display": true
  }
 },
 "nbformat": 4,
 "nbformat_minor": 2
}
